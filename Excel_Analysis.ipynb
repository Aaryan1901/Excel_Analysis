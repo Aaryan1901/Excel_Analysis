{
 "cells": [
  {
   "cell_type": "code",
   "execution_count": 1,
   "id": "0e017382-e29b-468b-876f-14e36349adcd",
   "metadata": {},
   "outputs": [],
   "source": [
    "import pandas as pd\n",
    "import os\n",
    "import numpy as np"
   ]
  },
  {
   "cell_type": "code",
   "execution_count": 2,
   "id": "0258a515-379c-4a98-8708-63e5e06a33a0",
   "metadata": {},
   "outputs": [],
   "source": [
    "file_path=r\"C:\\Users\\Aaryan\\Documents\\Test\"\n",
    "file_name=\"qa_accuracy_original_file_4.xlsx\"\n",
    "sheet_name=\"QA Tracker\"\n",
    "\n",
    "full_file_path=os.path.join(file_path,file_name)\n",
    "quality_df=pd.read_excel(full_file_path,sheet_name=sheet_name)\n"
   ]
  },
  {
   "cell_type": "code",
   "execution_count": 3,
   "id": "6f08314b-4646-42ce-8d0c-39794af9517d",
   "metadata": {},
   "outputs": [
    {
     "data": {
      "text/plain": [
       "True"
      ]
     },
     "execution_count": 3,
     "metadata": {},
     "output_type": "execute_result"
    }
   ],
   "source": [
    "os.path.exists(full_file_path)"
   ]
  },
  {
   "cell_type": "code",
   "execution_count": 4,
   "id": "246678c8-0521-4c2c-a8da-0546a7e27ad5",
   "metadata": {},
   "outputs": [
    {
     "name": "stdout",
     "output_type": "stream",
     "text": [
      "                      SPI Editor     Source  Unnamed: 2  \\\n",
      "0                    Abin Arouje   HGTVHD-E       45398   \n",
      "1         Ramanjaneyulu Subbaiah   MAGNHD-E       45398   \n",
      "2       Prashanth Kumarakrishnan     CNBCHD       45398   \n",
      "3    Mangayarkarasi Muthupandian    TBSHD-E       45398   \n",
      "4    Mangayarkarasi Muthupandian  truTVHD-E       45398   \n",
      "..                           ...        ...         ...   \n",
      "209           Lakshmi Nagalingam     KXVADT       45403   \n",
      "210  Mangayarkarasi Muthupandian     WBNSDT       45403   \n",
      "211                  Anish Kevin      WGNDT       45403   \n",
      "212          Antos Karunian Aron      WRCDT       45403   \n",
      "213               Sandeep Prasad     WTTGDT       45403   \n",
      "\n",
      "     Dates Checked to mm/dd  #Days Checked  SPI QA editor  Date QA'd  \\\n",
      "0                     45407             10       Durgaram      45397   \n",
      "1                     45407             10       Durgaram      45397   \n",
      "2                     45407             10       Durgaram      45397   \n",
      "3                     45407             10       Durgaram      45397   \n",
      "4                     45407             10       Durgaram      45397   \n",
      "..                      ...            ...            ...        ...   \n",
      "209                   45412             10  Karuppasamy A      45402   \n",
      "210                   45412             10  Karuppasamy A      45402   \n",
      "211                   45410              8  Karuppasamy A      45402   \n",
      "212                   45412             10  Karuppasamy A      45402   \n",
      "213                   45412             10  Karuppasamy A      45402   \n",
      "\n",
      "     Total # Shows  Total # Episodes  Titles Correct  ...  CPR  IE For P  \\\n",
      "0              343             331.0             342  ...  NaN       1.0   \n",
      "1              257             257.0             257  ...  NaN       NaN   \n",
      "2              227             197.0             227  ...  NaN       NaN   \n",
      "3              372             340.0             372  ...  NaN       NaN   \n",
      "4              326             239.0             326  ...  NaN       NaN   \n",
      "..             ...               ...             ...  ...  ...       ...   \n",
      "209            362             157.0             360  ...  NaN       NaN   \n",
      "210            286             121.0             286  ...  NaN       NaN   \n",
      "211            277              56.0             277  ...  NaN       NaN   \n",
      "212            276             142.0             274  ...  NaN       NaN   \n",
      "213            340              77.0             340  ...  NaN       NaN   \n",
      "\n",
      "     IE For E  Valid Errors  Errors Marked  Remarks  JIRA/Non JIRA  \\\n",
      "0         NaN             1              1      NaN       Non JIRA   \n",
      "1         2.0             2              2      NaN       Non JIRA   \n",
      "2         2.0             2              2      NaN       Non JIRA   \n",
      "3         NaN             0              0      NaN       Non JIRA   \n",
      "4         NaN             0              0      NaN       Non JIRA   \n",
      "..        ...           ...            ...      ...            ...   \n",
      "209       NaN             2              2      NaN       Non JIRA   \n",
      "210       NaN             0              0      NaN       Non JIRA   \n",
      "211       NaN             0              0      NaN           JIRA   \n",
      "212       NaN             2              2      NaN           JIRA   \n",
      "213       NaN             0              0      NaN           JIRA   \n",
      "\n",
      "           Team  QA feedback response  Priority  \n",
      "0    NA Non-PBS                   NaN       NaN  \n",
      "1     NA Ingest                   NaN       NaN  \n",
      "2     NA Ingest                   NaN       NaN  \n",
      "3    NA Non-PBS                   NaN       NaN  \n",
      "4    NA Non-PBS                   NaN       NaN  \n",
      "..          ...                   ...       ...  \n",
      "209  NA Non-PBS                   NaN       NaN  \n",
      "210  NA Non-PBS                   NaN       NaN  \n",
      "211  NA Non-PBS                   NaN       NaN  \n",
      "212  NA Non-PBS                   NaN       NaN  \n",
      "213  NA Non-PBS                   NaN       NaN  \n",
      "\n",
      "[214 rows x 39 columns]\n"
     ]
    }
   ],
   "source": [
    "import os\n",
    "import pandas as pd\n",
    "\n",
    "file_path = r\"C:\\Users\\Aaryan\\Documents\\Test\"\n",
    "file_name = \"qa_accuracy_original_file_4.xlsx\"\n",
    "sheet_name = \"QA Tracker\"\n",
    "\n",
    "full_file_path = os.path.join(file_path, file_name)\n",
    "\n",
    "# Check if file exists before reading\n",
    "if os.path.exists(full_file_path):\n",
    "    quality_df = pd.read_excel(full_file_path, sheet_name=sheet_name)\n",
    "    print(quality_df) # Print DataFrame\n",
    "else:\n",
    "    print(\"File does not exist\")\n"
   ]
  },
  {
   "cell_type": "code",
   "execution_count": 5,
   "id": "f109129c-1ff3-4f83-b39e-93477f71dcb4",
   "metadata": {},
   "outputs": [],
   "source": [
    "quality_df.columns=quality_df.columns.str.lower()\n",
    "quality_df.columns=quality_df.columns.str.replace(\" \",\"_\")"
   ]
  },
  {
   "cell_type": "code",
   "execution_count": 6,
   "id": "17303834-abfd-40a1-9a2d-b913d5364537",
   "metadata": {},
   "outputs": [],
   "source": [
    "quality_df['spi_editor']=quality_df['spi_editor'].str.strip()\n",
    "quality_df['spi_editor']=quality_df['spi_editor'].replace(\"Vidhya\",\"Vidhya Tekur\")"
   ]
  },
  {
   "cell_type": "code",
   "execution_count": 7,
   "id": "94f6dbcf-0d2e-4686-8ab3-840315b93501",
   "metadata": {},
   "outputs": [],
   "source": [
    "quality_df['%_shows_correct']=pd.to_numeric(quality_df['%_shows_correct'],errors='coerce')*100\n",
    "quality_df['%_rovi_episodes_correct']=pd.to_numeric(quality_df['%_rovi_episodes_correct'],errors='coerce')*100\n",
    "quality_df['%_correct']=pd.to_numeric(quality_df['%_correct'],errors='coerce')*100"
   ]
  },
  {
   "cell_type": "code",
   "execution_count": 8,
   "id": "0bb15833-ab64-4d13-9a37-8147878ad652",
   "metadata": {},
   "outputs": [],
   "source": [
    "quality_df['new_%_shows_correct']=(quality_df['titles_correct']/quality_df['total_#_shows'])*100\n",
    "quality_df['new_%_rovi_episodes_correct']=(quality_df['rovi_episodes_correct']/quality_df['total_#_episodes'])*100\n",
    "quality_df['new_%_correct'] = np.where(\n",
    "    \n",
    "    quality_df['new_%_rovi_episodes_correct'].isnull(),\n",
    "    quality_df['new_%_shows_correct'],\n",
    "    (quality_df['new_%_shows_correct'] * 0.60 + quality_df['new_%_rovi_episodes_correct'] * 0.40)\n",
    ")\n"
   ]
  },
  {
   "cell_type": "code",
   "execution_count": 19,
   "id": "e0a8d79d-1935-4e2f-93fd-788fc45be382",
   "metadata": {},
   "outputs": [],
   "source": [
    "#Group by and pivot\n",
    "average_percentage_correct=quality_df.groupby('spi_editor')['new_%_correct'].mean().round(2)\n",
    "average_percentage_correct_sorted=average_percentage_correct.sort_values()\n",
    "\n",
    "pivot_df=average_percentage_correct_sorted.reset_index()\n",
    "pivot_df.rename(columns={'new_%_correct':'quality_score'},inplace=True)"
   ]
  },
  {
   "cell_type": "code",
   "execution_count": 15,
   "id": "3152dc9e-89e8-4c2e-8134-5246e271e2ea",
   "metadata": {},
   "outputs": [
    {
     "name": "stderr",
     "output_type": "stream",
     "text": [
      "C:\\Users\\Aaryan\\AppData\\Local\\Temp\\ipykernel_40740\\392464310.py:52: UserWarning: set_ticklabels() should only be used with a fixed number of ticks, i.e. after set_ticks() or using a FixedLocator.\n",
      "  ax1.set_xticklabels(final_df['spi_editor'], rotation=45, ha='right')\n"
     ]
    },
    {
     "data": {
      "image/png": "[encoded data removed]",
      "text/plain": [
       "<Figure size 1200x600 with 2 Axes>"
      ]
     },
     "metadata": {},
     "output_type": "display_data"
    }
   ],
   "source": [
    "import pandas as pd\n",
    "import numpy as np\n",
    "import matplotlib.pyplot as plt\n",
    "\n",
    "# Load the Excel file\n",
    "file_path = r\"C:\\Users\\Aaryan\\Documents\\Test\\qa_accuracy_original_file_4.xlsx\"\n",
    "sheet_name = \"QA Tracker\"\n",
    "\n",
    "quality_df = pd.read_excel(file_path, sheet_name=sheet_name)\n",
    "\n",
    "# Clean column names\n",
    "quality_df.columns = quality_df.columns.str.lower().str.replace(\" \", \"_\")\n",
    "\n",
    "# Clean SPI Editor names\n",
    "quality_df['spi_editor'] = quality_df['spi_editor'].str.strip()\n",
    "quality_df['spi_editor'] = quality_df['spi_editor'].replace(\"Vidhya\", \"Vidhya Tekur\")\n",
    "\n",
    "# Convert percentage columns to numeric\n",
    "quality_df['%_shows_correct'] = pd.to_numeric(quality_df['%_shows_correct'], errors='coerce') * 100\n",
    "quality_df['%_rovi_episodes_correct'] = pd.to_numeric(quality_df['%_rovi_episodes_correct'], errors='coerce') * 100\n",
    "quality_df['%_correct'] = pd.to_numeric(quality_df['%_correct'], errors='coerce') * 100\n",
    "\n",
    "# Calculate new % correct values\n",
    "quality_df['new_%_shows_correct'] = (quality_df['titles_correct'] / quality_df['total_#_shows']) * 100\n",
    "quality_df['new_%_rovi_episodes_correct'] = (quality_df['rovi_episodes_correct'] / quality_df['total_#_episodes']) * 100\n",
    "\n",
    "# Compute final % correct with weights\n",
    "quality_df['new_%_correct'] = np.where(\n",
    "    quality_df['new_%_rovi_episodes_correct'].isnull(),\n",
    "    quality_df['new_%_shows_correct'],\n",
    "    (quality_df['new_%_shows_correct'] * 0.60 + quality_df['new_%_rovi_episodes_correct'] * 0.40)\n",
    ")\n",
    "\n",
    "# Compute Source Qaed (count) and Avg QA Score (mean)\n",
    "source_count = quality_df['spi_editor'].value_counts().reset_index()\n",
    "source_count.columns = ['spi_editor', '#Source Qaed']\n",
    "\n",
    "avg_qa_score = quality_df.groupby('spi_editor')['new_%_correct'].mean().reset_index()\n",
    "avg_qa_score.columns = ['spi_editor', 'Avg QA Score']\n",
    "\n",
    "# Merge the two and sort by Avg QA Score in ascending order\n",
    "final_df = pd.merge(source_count, avg_qa_score, on='spi_editor').sort_values(by='Avg QA Score', ascending=True)\n",
    "\n",
    "# Visualization\n",
    "fig, ax1 = plt.subplots(figsize=(12, 6))\n",
    "\n",
    "# Bar chart for #Source Qaed\n",
    "ax1.bar(final_df['spi_editor'], final_df['#Source Qaed'], color='blue', label='#Source Qaed')\n",
    "ax1.set_xlabel(\"SPI Editor\")\n",
    "ax1.set_ylabel(\"#Source Qaed\", color='blue')\n",
    "ax1.tick_params(axis='y', labelcolor='blue')\n",
    "ax1.set_xticklabels(final_df['spi_editor'], rotation=45, ha='right')\n",
    "\n",
    "# Line chart for Avg QA Score\n",
    "ax2 = ax1.twinx()\n",
    "ax2.plot(final_df['spi_editor'], final_df['Avg QA Score'], color='red', marker='o', label='Avg QA Score')\n",
    "ax2.set_ylabel(\"Avg QA Score\", color='red')\n",
    "ax2.tick_params(axis='y', labelcolor='red')\n",
    "\n",
    "# Title and layout\n",
    "plt.title(\"QA Analysis - Aaryan\")\n",
    "fig.tight_layout()\n",
    "plt.show()\n"
   ]
  },
  {
   "cell_type": "code",
   "execution_count": null,
   "id": "baaa9bae-84cd-47db-8024-9466e71b482d",
   "metadata": {},
   "outputs": [],
   "source": [
    "quality_df"
   ]
  },
  {
   "cell_type": "code",
   "execution_count": null,
   "id": "fdc7cc82-59ac-4668-bb19-eac0fffd9d17",
   "metadata": {},
   "outputs": [],
   "source": []
  },
  {
   "cell_type": "code",
   "execution_count": null,
   "id": "1d68e3d7-8a37-4947-bd5b-1b188f4ea621",
   "metadata": {},
   "outputs": [],
   "source": []
  },
  {
   "cell_type": "code",
   "execution_count": null,
   "id": "cb7fd0dc-fedb-4617-93da-938cfc5d38dc",
   "metadata": {},
   "outputs": [],
   "source": []
  },
  {
   "cell_type": "code",
   "execution_count": null,
   "id": "9b46b0d9-56ee-43b3-b1f1-d903f6a05f18",
   "metadata": {},
   "outputs": [],
   "source": []
  },
  {
   "cell_type": "code",
   "execution_count": null,
   "id": "8a4aa489-c06c-48fa-ba80-ca23b46b911f",
   "metadata": {},
   "outputs": [],
   "source": []
  },
  {
   "cell_type": "code",
   "execution_count": null,
   "id": "05e565a7-e349-4494-bce7-9a2385689c3a",
   "metadata": {},
   "outputs": [],
   "source": []
  },
  {
   "cell_type": "code",
   "execution_count": null,
   "id": "f35379a9-d7ef-42f5-85dc-9b809100955f",
   "metadata": {},
   "outputs": [],
   "source": []
  },
  {
   "cell_type": "code",
   "execution_count": null,
   "id": "62b8f638-3f76-4d62-91bb-bfad6f6cd675",
   "metadata": {},
   "outputs": [],
   "source": []
  },
  {
   "cell_type": "code",
   "execution_count": null,
   "id": "902dfab2-5ed9-419d-ad4f-c0b11b82b296",
   "metadata": {},
   "outputs": [],
   "source": []
  },
  {
   "cell_type": "code",
   "execution_count": null,
   "id": "171647d0-e8e8-4312-ab1b-a288a7ad05e9",
   "metadata": {},
   "outputs": [],
   "source": [
    "import os\n",
    "import pandas as pd\n",
    "\n",
    "file_path = r\"C:\\Users\\Aaryan\\Documents\\Test\"\n",
    "file_name = \"qa_accuracy_original_file_4.xlsx\"\n",
    "sheet_name = \"QA Tracker\"\n",
    "\n",
    "full_file_path = os.path.join(file_path, file_name)\n",
    "\n",
    "# Check if file exists before reading\n",
    "if os.path.exists(full_file_path):\n",
    "    quality_df = pd.read_excel(full_file_path, sheet_name=sheet_name)\n",
    "    print(quality_df) # Print DataFrame\n",
    "else:\n",
    "    print(\"File does not exist\")"
   ]
  },
  {
   "cell_type": "code",
   "execution_count": null,
   "id": "8d9c3b5c-429d-4e50-a5a6-369b8d75f361",
   "metadata": {},
   "outputs": [],
   "source": [
    "quality_df.head()\n",
    "quality_df.tail()\n",
    "quality_df.describe()\n",
    "quality_df.info()\n",
    "quality_df.shape"
   ]
  },
  {
   "cell_type": "code",
   "execution_count": null,
   "id": "24233311-cfd3-4efc-b33b-f78a7a065e11",
   "metadata": {},
   "outputs": [],
   "source": [
    "quality_df.columns"
   ]
  },
  {
   "cell_type": "code",
   "execution_count": null,
   "id": "56bfd113-1982-4633-945e-82d4b40c3958",
   "metadata": {},
   "outputs": [],
   "source": [
    "quality_df.columns.tolist()"
   ]
  },
  {
   "cell_type": "code",
   "execution_count": null,
   "id": "a135ec06-da83-4abc-b5b8-a37baa6a3088",
   "metadata": {},
   "outputs": [],
   "source": [
    "sorted(quality_df.columns)"
   ]
  },
  {
   "cell_type": "code",
   "execution_count": null,
   "id": "be93e159-2aef-4cc6-b231-c66649490c0b",
   "metadata": {},
   "outputs": [],
   "source": [
    "quality_df.isnull().sum()"
   ]
  },
  {
   "cell_type": "code",
   "execution_count": null,
   "id": "9ec1501c-f8ea-4651-9d62-0b582f32dad1",
   "metadata": {},
   "outputs": [],
   "source": [
    "quality_df.dtypes"
   ]
  },
  {
   "cell_type": "code",
   "execution_count": null,
   "id": "dee2e3b2-9b10-43af-adc2-41e3703e1614",
   "metadata": {},
   "outputs": [],
   "source": [
    "quality_df.info()"
   ]
  },
  {
   "cell_type": "code",
   "execution_count": null,
   "id": "b76152dd-fb48-4e4b-b0ac-78a30601b652",
   "metadata": {},
   "outputs": [],
   "source": [
    "quality_df.columns\n"
   ]
  },
  {
   "cell_type": "code",
   "execution_count": null,
   "id": "0eeb58de-7eb4-45ec-926f-99990c0b37f7",
   "metadata": {},
   "outputs": [],
   "source": [
    "quality_df.columns=quality_df.columns.str.lower()\n",
    "quality_df.columns=quality_df.columns.str.replace(\" \",\"_\")"
   ]
  },
  {
   "cell_type": "code",
   "execution_count": null,
   "id": "c01ec4ad-f0b4-4ab7-9c01-3b4e8da5bc34",
   "metadata": {},
   "outputs": [],
   "source": [
    "quality_df"
   ]
  },
  {
   "cell_type": "code",
   "execution_count": null,
   "id": "903f127c-ccdd-4f9a-a002-4dd8ae390ffe",
   "metadata": {},
   "outputs": [],
   "source": [
    "date_columns=[\"dates_checked_to_mm/dd\",\"unnamed:_2\",\"date_qa'd\"]\n",
    "\n",
    "for columns in date_columns:\n",
    "    quality_df[columns] = pd.to_datetime(quality_df[columns]-25589,unit='D')\n",
    "    quality_df[columns] = quality_df[columns].dt.strftime(\"%d-%m-%y\")"
   ]
  },
  {
   "cell_type": "code",
   "execution_count": null,
   "id": "d06784db-31b3-4822-9f4f-0a7a0fd84a44",
   "metadata": {},
   "outputs": [],
   "source": [
    "quality_df"
   ]
  },
  {
   "cell_type": "code",
   "execution_count": null,
   "id": "ff6b0c61-d7f1-4de7-bbee-eda5b69b0625",
   "metadata": {},
   "outputs": [],
   "source": [
    "quality_df['spi_editor']"
   ]
  },
  {
   "cell_type": "code",
   "execution_count": null,
   "id": "a073189b-281e-4425-9b11-3a903392ae70",
   "metadata": {},
   "outputs": [],
   "source": [
    "sorted(quality_df['spi_editor'])"
   ]
  },
  {
   "cell_type": "code",
   "execution_count": null,
   "id": "09b8d84b-230a-4073-a1a6-8bf0bd879318",
   "metadata": {},
   "outputs": [],
   "source": [
    "sorted(quality_df['spi_editor'].unique())"
   ]
  },
  {
   "cell_type": "code",
   "execution_count": null,
   "id": "fe124609-119c-4c2b-9c16-0a1c65eb39d6",
   "metadata": {},
   "outputs": [],
   "source": [
    "sorted(quality_df['spi_editor'].unique().tolist())"
   ]
  },
  {
   "cell_type": "code",
   "execution_count": null,
   "id": "470ad4dc-6c18-4a74-8421-a3dec2fb2432",
   "metadata": {},
   "outputs": [],
   "source": [
    "quality_df['spi_editor']=quality_df['spi_editor'].str.strip()\n",
    "quality_df['spi_editor']=quality_df['spi_editor'].replace(\"Vidhya\",\"Vidhya Tekur\")\n",
    "quality_df"
   ]
  },
  {
   "cell_type": "code",
   "execution_count": null,
   "id": "335dcf46-3e24-437b-8800-be63974e3cc4",
   "metadata": {},
   "outputs": [],
   "source": [
    "quality_df"
   ]
  },
  {
   "cell_type": "code",
   "execution_count": null,
   "id": "6bd8f86d-5f83-4c45-9b6e-276c8d66841c",
   "metadata": {},
   "outputs": [],
   "source": [
    "quality_df"
   ]
  },
  {
   "cell_type": "code",
   "execution_count": null,
   "id": "597ec4ec-4e8e-4ddd-90b3-d77fa454444f",
   "metadata": {
    "scrolled": true
   },
   "outputs": [],
   "source": [
    "quality_df['%_shows_correct']=pd.to_numeric(quality_df['%_shows_correct'],errors='coerce')*100"
   ]
  },
  {
   "cell_type": "code",
   "execution_count": null,
   "id": "8ddde7a3-502e-440f-8820-fd1cb03ca6da",
   "metadata": {},
   "outputs": [],
   "source": [
    "quality_df['%_shows_correct']"
   ]
  },
  {
   "cell_type": "code",
   "execution_count": null,
   "id": "5377d54f-67f4-48e5-baf3-600e0ac9f5c5",
   "metadata": {},
   "outputs": [],
   "source": [
    "quality_df['%_rovi_episodes_correct']=pd.to_numeric(quality_df['%_rovi_episodes_correct'],errors='coerce')*100\n",
    "quality_df['%_correct']=pd.to_numeric(quality_df['%_correct'],errors='coerce')*100"
   ]
  },
  {
   "cell_type": "code",
   "execution_count": null,
   "id": "1a45b2b6-903c-4d86-bd4c-eb6145f20ac5",
   "metadata": {},
   "outputs": [],
   "source": [
    "quality_df['%_rovi_episodes_correct']"
   ]
  },
  {
   "cell_type": "code",
   "execution_count": null,
   "id": "21ded496-4140-44f0-bba5-5e7737ec3e12",
   "metadata": {},
   "outputs": [],
   "source": []
  },
  {
   "cell_type": "code",
   "execution_count": null,
   "id": "365061c6-ff56-42a7-a1a4-b1d275a3b4fe",
   "metadata": {},
   "outputs": [],
   "source": [
    "quality_df['%_correct']\n"
   ]
  },
  {
   "cell_type": "code",
   "execution_count": null,
   "id": "4c5d2650-29f4-42bf-a441-5e993abd16b3",
   "metadata": {},
   "outputs": [],
   "source": [
    "quality_df['new_%_shows_correct']=(quality_df['titles_correct']/quality_df['total_#_shows'])*100\n",
    "quality_df['new_%_rovi_episodes_correct']=(quality_df['rovi_episodes_correct']/quality_df['total_#_episodes'])*100\n",
    "quality_df['new_%_correct'] = np.where(\n",
    "    \n",
    "    quality_df['new_%_rovi_episodes_correct'].isnull(),\n",
    "    quality_df['new_%_shows_correct'],\n",
    "    (quality_df['new_%_shows_correct'] * 0.60 + quality_df['new_%_rovi_episodes_correct'] * 0.40)\n",
    ")\n"
   ]
  },
  {
   "cell_type": "code",
   "execution_count": null,
   "id": "27017b34-92cb-4830-ba6a-9af768e83168",
   "metadata": {},
   "outputs": [],
   "source": [
    "quality_df['new_%_correct'] "
   ]
  },
  {
   "cell_type": "code",
   "execution_count": null,
   "id": "bb03b935-66ac-4b58-b4af-cf5bd6ccd6fa",
   "metadata": {},
   "outputs": [],
   "source": [
    "quality_df['new_%_rovi_episodes_correct']"
   ]
  },
  {
   "cell_type": "code",
   "execution_count": null,
   "id": "c576b35d-5057-4b4e-9b2c-26a95c056fa1",
   "metadata": {},
   "outputs": [],
   "source": [
    "#error\n",
    "quality_df['check']=quality_df['new_%_correct'].round(2)==quality_df['%_correct'].round(2)\n",
    "error_df= quality_df[quality_df['check']==False]\n",
    "filtered_df= quality_df[quality_df['check']==True]"
   ]
  },
  {
   "cell_type": "code",
   "execution_count": null,
   "id": "7061ab80-d8ac-49fd-a9c7-9d8b84939926",
   "metadata": {},
   "outputs": [],
   "source": [
    "error_df"
   ]
  },
  {
   "cell_type": "code",
   "execution_count": null,
   "id": "5c709661-1da6-4d7f-a696-cf3c4f09c21b",
   "metadata": {},
   "outputs": [],
   "source": [
    "#Group by and pivot\n",
    "average_percentage_correct=filtered_df.groupby('spi_editor')['new_%_correct'].mean().round(2)\n",
    "average_percentage_correct_sorted=average_percentage_correct.sort_values()\n",
    "\n",
    "pivot_df=average_percentage_correct_sorted.reset_index()\n",
    "pivot_df.rename(columns={'new_%_correct':'quality_score'},inplace=True)"
   ]
  },
  {
   "cell_type": "code",
   "execution_count": null,
   "id": "ed5e532c-f073-4ef1-9b40-d7ae20fcbaff",
   "metadata": {},
   "outputs": [],
   "source": []
  },
  {
   "cell_type": "code",
   "execution_count": null,
   "id": "5a37ab9b-a174-43e8-989d-835f48e49a01",
   "metadata": {},
   "outputs": [],
   "source": []
  },
  {
   "cell_type": "raw",
   "id": "343fdb37-49f4-46a9-89a0-a5581777b093",
   "metadata": {},
   "source": []
  },
  {
   "cell_type": "code",
   "execution_count": null,
   "id": "4415fc13-e7d1-4971-a386-b1318d46afdd",
   "metadata": {},
   "outputs": [],
   "source": []
  },
  {
   "cell_type": "code",
   "execution_count": null,
   "id": "9549a7e6-eda6-4141-901d-c0763e06c8b5",
   "metadata": {},
   "outputs": [],
   "source": []
  },
  {
   "cell_type": "code",
   "execution_count": null,
   "id": "c224b277-0e6f-411a-9cf0-7fc2ad46e725",
   "metadata": {},
   "outputs": [],
   "source": []
  },
  {
   "cell_type": "code",
   "execution_count": null,
   "id": "392f737d-9bb9-422d-9175-5bb297b60067",
   "metadata": {},
   "outputs": [],
   "source": []
  },
  {
   "cell_type": "code",
   "execution_count": null,
   "id": "3b10661f-4d1d-403e-84da-d049508e4bc6",
   "metadata": {},
   "outputs": [],
   "source": []
  },
  {
   "cell_type": "code",
   "execution_count": null,
   "id": "20f687c4-a30a-465a-a70a-eadd2dda2831",
   "metadata": {},
   "outputs": [],
   "source": []
  },
  {
   "cell_type": "code",
   "execution_count": null,
   "id": "7be030e5-e443-488e-9300-2b227d93b7fb",
   "metadata": {},
   "outputs": [],
   "source": []
  },
  {
   "cell_type": "code",
   "execution_count": null,
   "id": "dcc4b6e0-5dad-4841-9dfc-08018fbae03e",
   "metadata": {},
   "outputs": [],
   "source": []
  },
  {
   "cell_type": "code",
   "execution_count": null,
   "id": "e482cae2-1968-4a82-b06c-e6c34a009b50",
   "metadata": {},
   "outputs": [],
   "source": []
  },
  {
   "cell_type": "code",
   "execution_count": null,
   "id": "fa6211ba-c216-41f9-a6d6-00b5d4e5ea16",
   "metadata": {},
   "outputs": [],
   "source": []
  },
  {
   "cell_type": "code",
   "execution_count": null,
   "id": "d3240d95-3917-40c4-90f3-e08b5c39573e",
   "metadata": {},
   "outputs": [],
   "source": []
  },
  {
   "cell_type": "code",
   "execution_count": null,
   "id": "9386736f-0746-4011-b48a-6cafdf2cc5e5",
   "metadata": {},
   "outputs": [],
   "source": []
  },
  {
   "cell_type": "code",
   "execution_count": null,
   "id": "a37e649c-0f44-45c0-a477-b191432dbf23",
   "metadata": {},
   "outputs": [],
   "source": []
  },
  {
   "cell_type": "code",
   "execution_count": null,
   "id": "20fe3ba5-9cfa-4c0e-9442-f196cc476b00",
   "metadata": {},
   "outputs": [],
   "source": []
  },
  {
   "cell_type": "code",
   "execution_count": null,
   "id": "258addba-8594-4a39-a617-641433c6d18f",
   "metadata": {},
   "outputs": [],
   "source": []
  },
  {
   "cell_type": "code",
   "execution_count": null,
   "id": "97257420-1fa4-4f9e-9632-349d02d69043",
   "metadata": {},
   "outputs": [],
   "source": []
  },
  {
   "cell_type": "code",
   "execution_count": null,
   "id": "ba60c113-efb0-4b17-881f-daeedadb7255",
   "metadata": {},
   "outputs": [],
   "source": []
  },
  {
   "cell_type": "code",
   "execution_count": null,
   "id": "2477a66a-ad1c-40c1-9ab1-c6e3cca68b9e",
   "metadata": {},
   "outputs": [],
   "source": []
  },
  {
   "cell_type": "code",
   "execution_count": null,
   "id": "a0e6292e-1b30-44bf-bf96-383ea59adc3b",
   "metadata": {},
   "outputs": [],
   "source": []
  },
  {
   "cell_type": "code",
   "execution_count": null,
   "id": "7a800ae8-99aa-4eee-9587-6c6efbb30f4b",
   "metadata": {},
   "outputs": [],
   "source": []
  },
  {
   "cell_type": "code",
   "execution_count": null,
   "id": "41ebfbb6-0229-40eb-a312-6c56c66d77c7",
   "metadata": {},
   "outputs": [],
   "source": []
  },
  {
   "cell_type": "code",
   "execution_count": null,
   "id": "543eccd1-9cb0-4a10-bb2f-3126973b14cf",
   "metadata": {},
   "outputs": [],
   "source": []
  },
  {
   "cell_type": "code",
   "execution_count": null,
   "id": "d7e08051-73d5-4331-8462-4767a87bcd05",
   "metadata": {},
   "outputs": [],
   "source": []
  },
  {
   "cell_type": "code",
   "execution_count": null,
   "id": "ac19a9c9-17f2-41c6-9373-e05ef9ecc359",
   "metadata": {},
   "outputs": [],
   "source": [
    "quality_df.columns"
   ]
  },
  {
   "cell_type": "code",
   "execution_count": null,
   "id": "2d9e68d1-31ad-40c1-a816-110821a68faa",
   "metadata": {},
   "outputs": [],
   "source": []
  },
  {
   "cell_type": "code",
   "execution_count": null,
   "id": "73f22df6-8958-402e-9eb4-6929515c46ee",
   "metadata": {},
   "outputs": [],
   "source": []
  },
  {
   "cell_type": "code",
   "execution_count": null,
   "id": "f2989880-8b0a-440e-91a6-642808b9a258",
   "metadata": {},
   "outputs": [],
   "source": []
  },
  {
   "cell_type": "code",
   "execution_count": null,
   "id": "8ae467c4-dbd8-422c-b102-1c2e4f81f043",
   "metadata": {},
   "outputs": [],
   "source": []
  },
  {
   "cell_type": "code",
   "execution_count": null,
   "id": "17f32330-feea-4ced-b143-929f72bd3713",
   "metadata": {},
   "outputs": [],
   "source": []
  },
  {
   "cell_type": "code",
   "execution_count": null,
   "id": "1ab071ee-ecf9-407b-8a98-3bac204bcbc3",
   "metadata": {},
   "outputs": [],
   "source": []
  },
  {
   "cell_type": "code",
   "execution_count": null,
   "id": "08140b55-4c37-46a2-ad78-cf5b5543180a",
   "metadata": {},
   "outputs": [],
   "source": []
  },
  {
   "cell_type": "code",
   "execution_count": null,
   "id": "39aef922-b4d1-4167-b7c0-7c8cdd13eb79",
   "metadata": {},
   "outputs": [],
   "source": []
  },
  {
   "cell_type": "code",
   "execution_count": null,
   "id": "6b0a9e0f-de4f-4e8a-9a21-a1a436e73fcb",
   "metadata": {},
   "outputs": [],
   "source": []
  },
  {
   "cell_type": "code",
   "execution_count": null,
   "id": "c9ac246a-f8bd-4e6a-bb98-d80f4e671fc1",
   "metadata": {},
   "outputs": [],
   "source": []
  },
  {
   "cell_type": "code",
   "execution_count": null,
   "id": "ee7babb1-fadf-4deb-b688-46051ada79ed",
   "metadata": {},
   "outputs": [],
   "source": []
  },
  {
   "cell_type": "code",
   "execution_count": null,
   "id": "db2c47fe-cee2-42a6-b1d2-0a4af6fd4e6c",
   "metadata": {},
   "outputs": [],
   "source": []
  },
  {
   "cell_type": "code",
   "execution_count": null,
   "id": "6e6a74ed-f821-44d4-a27b-95d8dc48ec31",
   "metadata": {},
   "outputs": [],
   "source": []
  },
  {
   "cell_type": "code",
   "execution_count": null,
   "id": "7d8f86dd-a26c-47a6-80e5-18f351c0348d",
   "metadata": {},
   "outputs": [],
   "source": []
  },
  {
   "cell_type": "code",
   "execution_count": null,
   "id": "97ef7ed6-372b-4a5f-a0b6-ffe6775a7eb4",
   "metadata": {},
   "outputs": [],
   "source": []
  },
  {
   "cell_type": "code",
   "execution_count": null,
   "id": "e4885f26-43c7-4ab9-862e-3e87e0c0e8e9",
   "metadata": {},
   "outputs": [],
   "source": []
  },
  {
   "cell_type": "code",
   "execution_count": null,
   "id": "2c284d5c-c438-4da1-968f-f67e23ba0fdb",
   "metadata": {},
   "outputs": [],
   "source": []
  },
  {
   "cell_type": "code",
   "execution_count": null,
   "id": "98c85bda-bff6-42c1-b193-2acc5276c527",
   "metadata": {},
   "outputs": [],
   "source": []
  },
  {
   "cell_type": "code",
   "execution_count": null,
   "id": "81966c94-ebb4-424b-b72b-bdf6c015f984",
   "metadata": {},
   "outputs": [],
   "source": []
  },
  {
   "cell_type": "code",
   "execution_count": null,
   "id": "2791c8a5-6404-4716-ab06-53026a8da944",
   "metadata": {},
   "outputs": [],
   "source": []
  },
  {
   "cell_type": "code",
   "execution_count": null,
   "id": "47541d0e-36d6-4bf4-8b22-da530dbf213e",
   "metadata": {},
   "outputs": [],
   "source": []
  },
  {
   "cell_type": "code",
   "execution_count": null,
   "id": "aea73a66-b2ac-4656-9227-e05599bfab26",
   "metadata": {},
   "outputs": [],
   "source": []
  },
  {
   "cell_type": "code",
   "execution_count": null,
   "id": "30f67ed7-a0c2-489a-8584-75bbb24981ce",
   "metadata": {},
   "outputs": [],
   "source": []
  },
  {
   "cell_type": "code",
   "execution_count": null,
   "id": "24a57920-17bf-4158-9472-4fa40ad4de92",
   "metadata": {},
   "outputs": [],
   "source": []
  },
  {
   "cell_type": "code",
   "execution_count": null,
   "id": "ee383006-4d82-466a-b0f5-29e5099b30c2",
   "metadata": {},
   "outputs": [],
   "source": []
  },
  {
   "cell_type": "code",
   "execution_count": null,
   "id": "e65f5d01-ccd2-4347-aa4d-d31bba922087",
   "metadata": {},
   "outputs": [],
   "source": []
  },
  {
   "cell_type": "code",
   "execution_count": null,
   "id": "d764051d-6318-480e-9cd4-0677acb83156",
   "metadata": {},
   "outputs": [],
   "source": []
  },
  {
   "cell_type": "code",
   "execution_count": null,
   "id": "eb885ff9-eee1-4201-beb5-acea3015b947",
   "metadata": {},
   "outputs": [],
   "source": []
  },
  {
   "cell_type": "code",
   "execution_count": null,
   "id": "5d3fef4f-77be-4289-ad34-727dd23bac66",
   "metadata": {},
   "outputs": [],
   "source": []
  },
  {
   "cell_type": "code",
   "execution_count": null,
   "id": "09070e51-558c-4b97-b13e-0a71f20c8def",
   "metadata": {},
   "outputs": [],
   "source": []
  },
  {
   "cell_type": "code",
   "execution_count": null,
   "id": "29a9a8c3-fca6-4405-bb55-1591500fdaa4",
   "metadata": {},
   "outputs": [],
   "source": []
  },
  {
   "cell_type": "code",
   "execution_count": null,
   "id": "f50c8833-8135-414d-b3ee-c5d71c5bfa91",
   "metadata": {},
   "outputs": [],
   "source": []
  },
  {
   "cell_type": "code",
   "execution_count": null,
   "id": "86afe83a-1d89-443b-94c7-738474640dcd",
   "metadata": {},
   "outputs": [],
   "source": []
  },
  {
   "cell_type": "code",
   "execution_count": null,
   "id": "437ef3f5-4813-47a4-ac92-581afd01ed76",
   "metadata": {},
   "outputs": [],
   "source": []
  },
  {
   "cell_type": "code",
   "execution_count": null,
   "id": "0604d81a-94bb-4f3e-867a-8721e9d010ff",
   "metadata": {},
   "outputs": [],
   "source": []
  },
  {
   "cell_type": "code",
   "execution_count": null,
   "id": "99511bcf-49a5-47a7-a68f-ac8bf1b2ec33",
   "metadata": {},
   "outputs": [],
   "source": []
  },
  {
   "cell_type": "code",
   "execution_count": null,
   "id": "a7ea0bd0-ef18-4fe8-9188-24373496eefd",
   "metadata": {},
   "outputs": [],
   "source": []
  },
  {
   "cell_type": "code",
   "execution_count": null,
   "id": "023c474b-8f72-4ccd-8a55-3ab0ae93c20d",
   "metadata": {},
   "outputs": [],
   "source": []
  },
  {
   "cell_type": "code",
   "execution_count": null,
   "id": "569ff0a8-18d3-4c8a-97fa-90bf55ed9fbe",
   "metadata": {},
   "outputs": [],
   "source": []
  },
  {
   "cell_type": "code",
   "execution_count": null,
   "id": "3f55c089-73a0-41d9-af3b-88928dbd412d",
   "metadata": {},
   "outputs": [],
   "source": []
  },
  {
   "cell_type": "code",
   "execution_count": null,
   "id": "00ba244c-6179-4163-be67-769b260e5a14",
   "metadata": {},
   "outputs": [],
   "source": []
  },
  {
   "cell_type": "code",
   "execution_count": null,
   "id": "869cbba4-4761-4419-acdf-f6dc2ffb50f3",
   "metadata": {},
   "outputs": [],
   "source": []
  },
  {
   "cell_type": "code",
   "execution_count": null,
   "id": "80020b16-e8b6-4002-a6e5-ad4c5ae9202d",
   "metadata": {},
   "outputs": [],
   "source": []
  },
  {
   "cell_type": "code",
   "execution_count": null,
   "id": "a353ae18-4f11-4626-9ccc-9804902fce53",
   "metadata": {},
   "outputs": [],
   "source": []
  },
  {
   "cell_type": "code",
   "execution_count": null,
   "id": "af2da361-45e2-4987-be57-ff3c9f2d5e8e",
   "metadata": {},
   "outputs": [],
   "source": []
  },
  {
   "cell_type": "code",
   "execution_count": null,
   "id": "6d75be47-cdea-4c4e-b31d-8c31e3538545",
   "metadata": {},
   "outputs": [],
   "source": []
  },
  {
   "cell_type": "code",
   "execution_count": null,
   "id": "5d6a5a3a-e537-4e29-aad9-163653c09e3d",
   "metadata": {},
   "outputs": [],
   "source": []
  },
  {
   "cell_type": "code",
   "execution_count": null,
   "id": "37919c14-238f-4cc5-9d70-b95bacc5070c",
   "metadata": {},
   "outputs": [],
   "source": []
  },
  {
   "cell_type": "code",
   "execution_count": null,
   "id": "0aa5ea6d-8510-43ed-8241-dbab8dea1cd4",
   "metadata": {},
   "outputs": [],
   "source": []
  },
  {
   "cell_type": "code",
   "execution_count": null,
   "id": "23b94565-c582-4f16-8e26-77deafe8a87b",
   "metadata": {},
   "outputs": [],
   "source": []
  },
  {
   "cell_type": "code",
   "execution_count": null,
   "id": "e5e4b3f7-d38c-4ccf-9259-9047f05b8d47",
   "metadata": {},
   "outputs": [],
   "source": []
  },
  {
   "cell_type": "code",
   "execution_count": null,
   "id": "1f04258f-e6b6-43b1-bc66-a63d51ebc6a4",
   "metadata": {},
   "outputs": [],
   "source": []
  },
  {
   "cell_type": "code",
   "execution_count": null,
   "id": "7b3444b4-6fbd-4619-bd0e-6a5878e8d92f",
   "metadata": {},
   "outputs": [],
   "source": []
  },
  {
   "cell_type": "code",
   "execution_count": null,
   "id": "12282862-7389-44bd-9dac-cc2d863bef76",
   "metadata": {},
   "outputs": [],
   "source": []
  },
  {
   "cell_type": "code",
   "execution_count": null,
   "id": "cc27eec5-fa86-4f5a-bb5e-b727da81bee4",
   "metadata": {},
   "outputs": [],
   "source": []
  },
  {
   "cell_type": "code",
   "execution_count": null,
   "id": "7b170dce-5376-4e38-b270-9cb7de88f905",
   "metadata": {},
   "outputs": [],
   "source": []
  },
  {
   "cell_type": "code",
   "execution_count": null,
   "id": "a506c65e-eb99-4006-91d8-150800722528",
   "metadata": {},
   "outputs": [],
   "source": []
  },
  {
   "cell_type": "code",
   "execution_count": null,
   "id": "22596881-23df-4a60-8d41-8f838d953fa5",
   "metadata": {},
   "outputs": [],
   "source": []
  },
  {
   "cell_type": "code",
   "execution_count": null,
   "id": "fa2f3187-3fe6-4ee4-9a28-64f8c3961f1f",
   "metadata": {},
   "outputs": [],
   "source": []
  },
  {
   "cell_type": "code",
   "execution_count": null,
   "id": "bd0e32c6-4bf0-44cb-8bcf-f7c6ed5be5b6",
   "metadata": {},
   "outputs": [],
   "source": []
  },
  {
   "cell_type": "code",
   "execution_count": null,
   "id": "cab6ca33-3b09-418d-be0f-647555e4ed74",
   "metadata": {},
   "outputs": [],
   "source": []
  },
  {
   "cell_type": "code",
   "execution_count": null,
   "id": "521138e6-a69f-42d6-a748-f47baf918655",
   "metadata": {},
   "outputs": [],
   "source": []
  },
  {
   "cell_type": "code",
   "execution_count": null,
   "id": "49411e14-5eaf-4b3c-980e-3a83c921cd5c",
   "metadata": {},
   "outputs": [],
   "source": []
  },
  {
   "cell_type": "code",
   "execution_count": null,
   "id": "78eddb27-9a46-4269-b441-6236967ad79c",
   "metadata": {},
   "outputs": [],
   "source": []
  },
  {
   "cell_type": "code",
   "execution_count": null,
   "id": "a60a7aae-1a67-4ba3-aac2-fb478d5d2c35",
   "metadata": {},
   "outputs": [],
   "source": []
  },
  {
   "cell_type": "code",
   "execution_count": null,
   "id": "29c50c27-9900-44f2-97c3-74b07a4ac3a3",
   "metadata": {},
   "outputs": [],
   "source": []
  },
  {
   "cell_type": "code",
   "execution_count": null,
   "id": "c7997915-590a-4033-a002-d6e4b1e0ca07",
   "metadata": {},
   "outputs": [],
   "source": []
  }
 ],
 "metadata": {
  "kernelspec": {
   "display_name": "Python [conda env:base] *",
   "language": "python",
   "name": "conda-base-py"
  },
  "language_info": {
   "codemirror_mode": {
    "name": "ipython",
    "version": 3
   },
   "file_extension": ".py",
   "mimetype": "text/x-python",
   "name": "python",
   "nbconvert_exporter": "python",
   "pygments_lexer": "ipython3",
   "version": "3.12.3"
  }
 },
 "nbformat": 4,
 "nbformat_minor": 5
}
